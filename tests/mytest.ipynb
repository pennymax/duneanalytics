{
 "cells": [
  {
   "cell_type": "code",
   "execution_count": 14,
   "metadata": {},
   "outputs": [],
   "source": [
    "from duneanalytics import DuneAnalytics"
   ]
  },
  {
   "cell_type": "code",
   "execution_count": 15,
   "metadata": {},
   "outputs": [
    {
     "data": {
      "text/plain": [
       "{'data': {'get_execution': {'execution_queued': None,\n",
       "   'execution_running': None,\n",
       "   'execution_succeeded': {'execution_id': '01GRMV9C9QXA0VE569GZ8Q7FB7',\n",
       "    'runtime_seconds': 1,\n",
       "    'generated_at': '2023-02-07T02:29:14.224209Z',\n",
       "    'columns': ['num_wallets', 'num_apes_bucket', 'num_apes_order'],\n",
       "    'data': [{'num_wallets': 4880,\n",
       "      'num_apes_order': 0,\n",
       "      'num_apes_bucket': '1 🐒'},\n",
       "     {'num_wallets': 626, 'num_apes_order': 1, 'num_apes_bucket': '2 🐒'},\n",
       "     {'num_wallets': 421, 'num_apes_order': 3, 'num_apes_bucket': '3-10 🐒'},\n",
       "     {'num_wallets': 33, 'num_apes_order': 4, 'num_apes_bucket': '10-20 🐒'},\n",
       "     {'num_wallets': 4, 'num_apes_order': 5, 'num_apes_bucket': '20-30 🐒'},\n",
       "     {'num_wallets': 4, 'num_apes_order': 6, 'num_apes_bucket': '30-50 🐒'},\n",
       "     {'num_wallets': 4, 'num_apes_order': 7, 'num_apes_bucket': '50-100 🐒'},\n",
       "     {'num_wallets': 3, 'num_apes_order': 8, 'num_apes_bucket': '100-200 🐒'},\n",
       "     {'num_wallets': 1, 'num_apes_order': 11, 'num_apes_bucket': '400+🐒'}]},\n",
       "   'execution_failed': None}}}"
      ]
     },
     "metadata": {},
     "output_type": "display_data"
    }
   ],
   "source": [
    "\n",
    "# initialize client\n",
    "dune = DuneAnalytics('user', 'password')\n",
    "\n",
    "# try to login\n",
    "dune.login()\n",
    "\n",
    "# fetch token\n",
    "dune.fetch_auth_token()\n",
    "\n",
    "# For some queries above might not work specially if using v3. Try to use below in that case:\n",
    "# for example: \n",
    "# https://dune.com/queries/1105079\n",
    "\n",
    "result_id = dune.query_result_id_v3(query_id=1948444)\n",
    "\n",
    "# fetch execution result\n",
    "data = dune.get_execution_result(result_id)\n",
    "display(data)"
   ]
  },
  {
   "cell_type": "code",
   "execution_count": 26,
   "metadata": {},
   "outputs": [
    {
     "name": "stdout",
     "output_type": "stream",
     "text": [
      "with agg as \n",
      "    (with transfers as \n",
      "        ((SELECT \n",
      "        \"to\" as wallet,\n",
      "        \"tokenId\" as token_id,\n",
      "        'mint' as action,\n",
      "        1 as value\n",
      "        FROM erc721.\"ERC721_evt_Transfer\"\n",
      "        where contract_address = '\\xbc4ca0eda7647a8ab7c2061c2e118a18a936f13d'\n",
      "        and \"from\" = '\\x0000000000000000000000000000000000000000')\n",
      "        \n",
      "        union all\n",
      "        \n",
      "        (SELECT \n",
      "        \"to\" as wallet,\n",
      "        \"tokenId\" as token_id,\n",
      "        'gain' as action,\n",
      "        1 as value\n",
      "        FROM erc721.\"ERC721_evt_Transfer\"\n",
      "        where contract_address = '\\xbc4ca0eda7647a8ab7c2061c2e118a18a936f13d'\n",
      "        and \"from\" != '\\x0000000000000000000000000000000000000000')\n",
      "        \n",
      "        union all \n",
      "        \n",
      "        (SELECT \n",
      "        \"from\" as wallet,\n",
      "        \"tokenId\" as token_id,\n",
      "        'lose' as action,\n",
      "        -1 as value\n",
      "        FROM erc721.\"ERC721_evt_Transfer\"\n",
      "        where contract_address = '\\xbc4ca0eda7647a8ab7c2061c2e118a18a936f13d'\n",
      "        and \"from\" != '\\x0000000000000000000000000000000000000000')\n",
      "        \n",
      "        union all\n",
      "        (SELECT \n",
      "        \"from\" as wallet,\n",
      "        \"tokenId\" as token_id,\n",
      "        'burn' as action,\n",
      "        -1 as value\n",
      "        FROM erc721.\"ERC721_evt_Transfer\"\n",
      "        where contract_address = '\\xbc4ca0eda7647a8ab7c2061c2e118a18a936f13d'\n",
      "        and \"to\" = '\\x0000000000000000000000000000000000000000')\n",
      "        )\n",
      "        \n",
      "    select \n",
      "    wallet,\n",
      "    sum(value) as num_apes,\n",
      "    concat(round(sum(value)::numeric/10762*100,2),'% 🐵') as ownership\n",
      "    from \n",
      "    transfers\n",
      "    group by wallet\n",
      "    order by num_apes desc)\n",
      "SELECT COUNT(wallet) AS num_wallets,\n",
      "    CASE\n",
      "        when num_apes = 0 then 'Sold 🐒'\n",
      "           WHEN num_apes = 1 THEN '1 🐒'\n",
      "           WHEN num_apes = 2 THEN '2 🐒'\n",
      "           WHEN 3 <= num_apes AND num_apes <= 10 THEN '3-10 🐒'\n",
      "           WHEN 10 <= num_apes AND num_apes <= 20 THEN '10-20 🐒'\n",
      "           WHEN 20 <= num_apes AND num_apes <= 30 THEN '20-30 🐒'\n",
      "           WHEN 30 <= num_apes AND num_apes <= 50 THEN '30-50 🐒'\n",
      "           WHEN 50 <= num_apes AND num_apes <= 100 THEN '50-100 🐒'\n",
      "           WHEN 100 <= num_apes AND num_apes <= 200 THEN '100-200 🐒'\n",
      "           WHEN 200 <= num_apes AND num_apes <= 300 THEN '200-300 🐒'\n",
      "           WHEN 300 <= num_apes AND num_apes <= 400 THEN '300-400 🐒'\n",
      "           when num_apes > 400 then '400+🐒'\n",
      "       END AS num_apes_bucket,\n",
      "    CASE\n",
      "            when num_apes = 0 then -1\n",
      "           WHEN num_apes = 1 THEN 0\n",
      "           WHEN num_apes = 2 THEN 1\n",
      "            WHEN 3 <= num_apes AND num_apes <= 10 THEN 3\n",
      "           WHEN 10 <= num_apes AND num_apes <= 20 THEN 4\n",
      "           WHEN 20 <= num_apes AND num_apes <= 30 THEN 5\n",
      "           WHEN 30 <= num_apes AND num_apes <= 50 THEN 6\n",
      "           WHEN 50 <= num_apes AND num_apes <= 100 THEN 7\n",
      "           WHEN 100 <= num_apes AND num_apes <= 200 THEN 8\n",
      "           WHEN 200 <= num_apes AND num_apes <= 300 THEN 9\n",
      "           WHEN 300 <= num_apes AND num_apes <= 400 THEN 10\n",
      "           when num_apes > 400 then 11\n",
      "           ELSE 12\n",
      "       END AS num_apes_order\n",
      "FROM agg\n",
      "where num_apes > 0\n",
      "GROUP BY 2,3\n",
      "ORDER BY num_apes_order ASC\n"
     ]
    }
   ],
   "source": [
    "sql = dune.query_sql_code(query_id=1948444)\n",
    "print(sql)"
   ]
  }
 ],
 "metadata": {
  "kernelspec": {
   "display_name": "base",
   "language": "python",
   "name": "python3"
  },
  "language_info": {
   "codemirror_mode": {
    "name": "ipython",
    "version": 3
   },
   "file_extension": ".py",
   "mimetype": "text/x-python",
   "name": "python",
   "nbconvert_exporter": "python",
   "pygments_lexer": "ipython3",
   "version": "3.9.7"
  },
  "orig_nbformat": 4,
  "vscode": {
   "interpreter": {
    "hash": "1484e75fd844713fc8b894d0da8bed5a86a1b61b6f1503a8c4ec866d726670d1"
   }
  }
 },
 "nbformat": 4,
 "nbformat_minor": 2
}
